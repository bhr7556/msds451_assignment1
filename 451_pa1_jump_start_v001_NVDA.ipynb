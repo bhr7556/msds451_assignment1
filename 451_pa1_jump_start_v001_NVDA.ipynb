{
 "cells": [
  {
   "cell_type": "markdown",
   "metadata": {},
   "source": [
    "# 451 Financial Engineering: Programming Assignment 1\n",
    "## Blade Robelly, July 13, 2025"
   ]
  },
  {
   "cell_type": "markdown",
   "metadata": {},
   "source": [
    "## Overview \n",
    "We use machine learing classifiers, including tree-based ensemble boosting methods, to predict the direction of oil futures (up or down) using a number of lagged price features. In particular, we look at daily closing spot prices for [West Texas Intermediate (ticker WTI)](https://en.wikipedia.org/wiki/West_Texas_Intermediate) with lags of one to seven days, as well as features based on opening, closing, high, and low price points, and daily trading volume.\n",
    "\n",
    "A model for predicting the direction of daily returns sets the stage for testing the predictive utility of additional features. The domain of potential features or leading indicators is wide, including those associated with other price series, economic indicators, international events, securities filings, analyst and news reports, and media measures."
   ]
  },
  {
   "cell_type": "markdown",
   "metadata": {
    "tags": []
   },
   "source": [
    "### Import Libraries\n",
    "We draw on Python packages for data manipulation and modeling. Most important are Polars, a high-performance alternative to Pandas for data manipulation, and Scikit-Learn for machine learning study design and modeling algorithms."
   ]
  },
  {
   "cell_type": "code",
   "execution_count": 85,
   "metadata": {
    "scrolled": true
   },
   "outputs": [],
   "source": [
    "import os\n",
    "# Ignore warnings\n",
    "import warnings\n",
    "warnings.filterwarnings('ignore')\n",
    "warnings.simplefilter(action='ignore', category=FutureWarning)\n",
    "\n",
    "# Import Python Packages for data manipulation, data pipelines, and databases\n",
    "import numpy as np\n",
    "import pyarrow # foundation for polars\n",
    "import polars as pl # DataFrame work superior to Pandas\n",
    "\n",
    "# Plotting\n",
    "import matplotlib.pyplot as plt\n",
    "# Display static plots directly in the notebook output \n",
    "%matplotlib inline\n",
    "# create stylized visualizations, including heat maps\n",
    "import seaborn as sns\n",
    "\n",
    "# Preprocessing\n",
    "from sklearn.preprocessing import MinMaxScaler, StandardScaler\n",
    "from sklearn.pipeline import Pipeline\n",
    "from sklearn.model_selection import (RandomizedSearchCV, \n",
    "                                    TimeSeriesSplit)\n",
    "from sklearn.model_selection import cross_validate\n",
    "\n",
    "# utilized in all possible subsets classification work\n",
    "from sklearn.linear_model import LogisticRegression\n",
    "from sklearn.metrics import log_loss\n",
    "\n",
    "# needed for randomized search\n",
    "from sklearn.model_selection import RandomizedSearchCV\n",
    "from scipy.stats import randint, uniform\n",
    "\n",
    "# metrics in xgboost tuning and final model evaluation\n",
    "from sklearn.metrics import (accuracy_score,\n",
    "                             classification_report, \n",
    "                             roc_curve, \n",
    "                             roc_auc_score,\n",
    "                             RocCurveDisplay,\n",
    "                             ConfusionMatrixDisplay,\n",
    "                             confusion_matrix,\n",
    "                             precision_score,\n",
    "                             recall_score,\n",
    "                             f1_score\n",
    "                            )\n",
    "\n",
    "# XGBoost Package... more complete than SciKit-Learn boosting methods\n",
    "import xgboost as xgb\n",
    "from xgboost import XGBRegressor, XGBClassifier, plot_importance\n",
    "\n",
    "# import yfinance as yf  # used earlier to obtain the price series\n",
    "# import yfinance as yf\n",
    "\n",
    "import warnings\n",
    "# Suppress warnings for cleaner output\n",
    "#warnings.filterwarnings('ignore')\n",
    "%matplotlib inline\n"
   ]
  },
  {
   "cell_type": "markdown",
   "metadata": {},
   "source": [
    "### Retrieve Data\n",
    "In previous work, we retrieved price data for WTI from Yahoo Finance. The code is shown in the next commented-out cell."
   ]
  },
  {
   "cell_type": "code",
   "execution_count": 12,
   "metadata": {},
   "outputs": [
    {
     "data": {
      "text/plain": [
       "'\\nPrevious work to retrieve data from Yahoo Finance\\n\\nsymbol = \\'WTI\\'\\nstart_date = \\'2000-01-01\\'\\nend_date = \\'2025-05-27\\'\\n\\nsymbol = \\'WTI\\'\\nticker = yf.Ticker(symbol)\\nhistorical_data = ticker.history(start = start_date, end = end_date, period = \\'1mo\\')\\nprint(historical_data)\\n\\nprint(\"type of historical_data\", type(historical_data))\\n\\nhistorical_data.to_csv(\"wti_historical_data.csv\")\\n'"
      ]
     },
     "execution_count": 12,
     "metadata": {},
     "output_type": "execute_result"
    }
   ],
   "source": [
    "'''\n",
    "Previous work to retrieve data from Yahoo Finance\n",
    "\n",
    "symbol = 'WTI'\n",
    "start_date = '2000-01-01'\n",
    "end_date = '2025-05-27'\n",
    "\n",
    "symbol = 'WTI'\n",
    "ticker = yf.Ticker(symbol)\n",
    "historical_data = ticker.history(start = start_date, end = end_date, period = '1mo')\n",
    "print(historical_data)\n",
    "\n",
    "print(\"type of historical_data\", type(historical_data))\n",
    "\n",
    "historical_data.to_csv(\"wti_historical_data.csv\")\n",
    "'''"
   ]
  },
  {
   "cell_type": "markdown",
   "metadata": {},
   "source": [
    "### Polars DataFrame Development\n",
    "The following code cell demonstrates Polars use with the time series DataFrame for our selected market/ticker, WTI."
   ]
  },
  {
   "cell_type": "code",
   "execution_count": 14,
   "metadata": {},
   "outputs": [
    {
     "name": "stdout",
     "output_type": "stream",
     "text": [
      "Schema({'Date': Datetime(time_unit='us', time_zone='UTC'), 'Open': Float64, 'High': Float64, 'Low': Float64, 'Close': Float64, 'Volume': Int64, 'Dividends': Float64, 'Stock Splits': Float64})\n",
      "Schema({'Date': Datetime(time_unit='us', time_zone='UTC'), 'Open': Float64, 'High': Float64, 'Low': Float64, 'Close': Float64, 'Volume': Float64, 'CloseLag1': Float64, 'CloseLag2': Float64, 'CloseLag3': Float64, 'HML': Float64, 'HMLLag1': Float64, 'HMLLag2': Float64, 'HMLLag3': Float64, 'OMC': Float64, 'OMCLag1': Float64, 'OMCLag2': Float64, 'OMCLag3': Float64, 'VolumeLag1': Float64, 'VolumeLag2': Float64, 'VolumeLag3': Float64, 'CloseEMA2': Float64, 'CloseEMA4': Float64, 'CloseEMA8': Float64, 'LogReturn': Float64, 'Target': Int32})\n"
     ]
    }
   ],
   "source": [
    "wti = pl.read_csv(\"NVDA_historical_data.csv\", try_parse_dates=True)\n",
    "\n",
    "# check the original schema\n",
    "print(wti.schema)\n",
    "\n",
    "# drop useless columns Dividends and StockSplits\n",
    "wti = wti.drop(['Dividends', 'Stock Splits'])\n",
    "\n",
    "# create lag price features\n",
    "wti = wti.with_columns((pl.col('Close')).shift().alias('CloseLag1'))\n",
    "wti = wti.with_columns((pl.col('CloseLag1')).shift().alias('CloseLag2'))\n",
    "wti = wti.with_columns((pl.col('CloseLag2')).shift().alias('CloseLag3'))\n",
    "\n",
    "# create high-minus-low (HML) for day and its lags\n",
    "wti = wti.with_columns((pl.col('High') - pl.col('Low')).alias('HML'))\n",
    "wti = wti.with_columns((pl.col('HML')).shift().alias('HMLLag1'))\n",
    "wti = wti.with_columns((pl.col('HMLLag1')).shift().alias('HMLLag2'))\n",
    "wti = wti.with_columns((pl.col('HMLLag2')).shift().alias('HMLLag3'))\n",
    "\n",
    "# create a net change for the day as the open minus closing price OMC\n",
    "# also create the corresponding lag metrics\n",
    "wti = wti.with_columns((pl.col('Open') - pl.col('Close')).alias('OMC'))\n",
    "wti = wti.with_columns((pl.col('OMC')).shift().alias('OMCLag1'))\n",
    "wti = wti.with_columns((pl.col('OMCLag1')).shift().alias('OMCLag2'))\n",
    "wti = wti.with_columns((pl.col('OMCLag2')).shift().alias('OMCLag3'))\n",
    "\n",
    "# create volume lag metrics\n",
    "wti = wti.with_columns((pl.col('Volume')).shift().alias('VolumeLag1'))\n",
    "wti = wti.with_columns((pl.col('VolumeLag1')).shift().alias('VolumeLag2'))\n",
    "wti = wti.with_columns((pl.col('VolumeLag2')).shift().alias('VolumeLag3'))\n",
    "\n",
    "# compute 10-day exponential moving averages of closing prices\n",
    "# compute acround CloseLag1 to avoid any \"leakage\" in explanatory variable set\n",
    "# note also the 10-day buffer between train and test in time-series cross-validation\n",
    "wti = wti.with_columns((pl.col('CloseLag1').ewm_mean(half_life=1,ignore_nulls=True)).alias('CloseEMA2'))\n",
    "wti = wti.with_columns((pl.col('CloseLag1').ewm_mean(half_life=2,ignore_nulls=True)).alias('CloseEMA4'))\n",
    "wti = wti.with_columns((pl.col('CloseLag1').ewm_mean(half_life=4,ignore_nulls=True)).alias('CloseEMA8'))\n",
    "\n",
    "# log daily returns\n",
    "wti = wti.with_columns(np.log(pl.col('Close')/pl.col('CloseLag1')).alias('LogReturn'))\n",
    "\n",
    "# set volume features to Float64 for subsequent use in Numpy arrays\n",
    "wti = wti.with_columns(\n",
    "    pl.col('Volume').cast(pl.Float64).round(0),\n",
    "    pl.col('VolumeLag1').cast(pl.Float64).round(0),\n",
    "    pl.col('VolumeLag2').cast(pl.Float64).round(0),\n",
    "    pl.col('VolumeLag3').cast(pl.Float64).round(0),\n",
    "    )\n",
    "\n",
    "# round other features to three decimal places for reporting and subsequent analytics\n",
    "wti = wti.with_columns(\n",
    "    pl.col('Open').round(3),\n",
    "    pl.col('High').round(3),    \n",
    "    pl.col('Low').round(3),\n",
    "    pl.col('Close').round(3),      \n",
    "    pl.col('CloseLag1').round(3),\n",
    "    pl.col('CloseLag2').round(3),  \n",
    "    pl.col('CloseLag3').round(3),\n",
    "    pl.col('HML').round(3),  \n",
    "    pl.col('HMLLag1').round(3),\n",
    "    pl.col('HMLLag2').round(3),  \n",
    "    pl.col('HMLLag3').round(3),\n",
    "    pl.col('OMC').round(3),  \n",
    "    pl.col('OMCLag1').round(3),\n",
    "    pl.col('OMCLag2').round(3),  \n",
    "    pl.col('OMCLag3').round(3), \n",
    "    pl.col('CloseEMA2').round(3),\n",
    "    pl.col('CloseEMA4').round(3), \n",
    "    pl.col('CloseEMA8').round(3))\n",
    "    \n",
    "# define binary target/response 1 = market price up since previous day, 0 = even or down \n",
    "wti = wti.with_columns(pl.when(pl.col('LogReturn')>0.0).then(pl.lit(1)).otherwise(pl.lit(0)).alias('Target'))\n",
    "\n",
    "print(wti.schema)\n",
    "\n",
    "# save to external comma-delimited text file for checking calculations in Excel\n",
    "wti.write_csv(\"NVDA-with-computed-features.csv\")"
   ]
  },
  {
   "cell_type": "markdown",
   "metadata": {},
   "source": [
    "### Descriptive Statistics for Price Features"
   ]
  },
  {
   "cell_type": "code",
   "execution_count": 16,
   "metadata": {},
   "outputs": [
    {
     "name": "stdout",
     "output_type": "stream",
     "text": [
      "['statistic', 'Open', 'High', 'Low', 'Close', 'Volume', 'CloseLag1', 'CloseLag2', 'CloseLag3', 'HML', 'HMLLag1', 'HMLLag2', 'HMLLag3', 'OMC', 'OMCLag1', 'OMCLag2', 'OMCLag3', 'VolumeLag1', 'VolumeLag2', 'VolumeLag3', 'CloseEMA2', 'CloseEMA4', 'CloseEMA8', 'LogReturn', 'Target']\n",
      "Schema({'column': String, 'column_0': String, 'column_2': String, 'column_3': String, 'column_4': String, 'column_6': String, 'column_8': String})\n",
      "┌────────────┬──────────┬────────────────────────┬─────────────────────┬─────────────────────┬───────────────────────┬────────────────────┐\n",
      "│ column     ┆ column_0 ┆ column_2               ┆ column_3            ┆ column_4            ┆ column_6              ┆ column_8           │\n",
      "╞════════════╪══════════╪════════════════════════╪═════════════════════╪═════════════════════╪═══════════════════════╪════════════════════╡\n",
      "│ statistic  ┆ count    ┆ mean                   ┆ std                 ┆ min                 ┆ 50%                   ┆ max                │\n",
      "│ Open       ┆ 6407.0   ┆ 10.725639612923366     ┆ 27.736670604571223  ┆ 0.056               ┆ 0.456                 ┆ 156.04             │\n",
      "│ High       ┆ 6407.0   ┆ 10.923540970813175     ┆ 28.23528415305974   ┆ 0.06                ┆ 0.464                 ┆ 158.71             │\n",
      "│ Low        ┆ 6407.0   ┆ 10.509985796784765     ┆ 27.16750843349231   ┆ 0.055               ┆ 0.45                  ┆ 155.26             │\n",
      "│ Close      ┆ 6407.0   ┆ 10.726899484938349     ┆ 27.725813683469028  ┆ 0.056               ┆ 0.456                 ┆ 157.75             │\n",
      "│ Volume     ┆ 6407.0   ┆ 607223669.7518339      ┆ 428049696.9355013   ┆ 45644000.0          ┆ 506368000.0           ┆ 9230856000.0       │\n",
      "│ CloseLag1  ┆ 6407.0   ┆ 10.70229108787264      ┆ 27.665204078493094  ┆ 0.056               ┆ 0.456                 ┆ 155.02             │\n",
      "│ CloseLag2  ┆ 6407.0   ┆ 10.678109255501793     ┆ 27.60668864038941   ┆ 0.056               ┆ 0.456                 ┆ 154.31             │\n",
      "│ CloseLag3  ┆ 6407.0   ┆ 10.654038551584202     ┆ 27.5486069499898    ┆ 0.056               ┆ 0.456                 ┆ 149.406            │\n",
      "│ HML        ┆ 6407.0   ┆ 0.41355439363196506    ┆ 1.2310688792722428  ┆ 0.002               ┆ 0.018                 ┆ 17.569             │\n",
      "│ HMLLag1    ┆ 6407.0   ┆ 0.41301638832526927    ┆ 1.2304947509339719  ┆ 0.002               ┆ 0.018                 ┆ 17.569             │\n",
      "│ HMLLag2    ┆ 6407.0   ┆ 0.4125926330575933     ┆ 1.2301676021986854  ┆ 0.002               ┆ 0.018                 ┆ 17.569             │\n",
      "│ HMLLag3    ┆ 6407.0   ┆ 0.4117836741064461     ┆ 1.2287288163959111  ┆ 0.002               ┆ 0.018                 ┆ 17.569             │\n",
      "│ OMC        ┆ 6407.0   ┆ -0.0012595598564070737 ┆ 0.8059154591778597  ┆ -15.439             ┆ -0.0                  ┆ 14.848             │\n",
      "│ OMCLag1    ┆ 6407.0   ┆ -0.0009926642734509085 ┆ 0.8056325873828223  ┆ -15.439             ┆ 0.0                   ┆ 14.848             │\n",
      "│ OMCLag2    ┆ 6407.0   ┆ -0.0011423443109099293 ┆ 0.8055430970871452  ┆ -15.439             ┆ 0.0                   ┆ 14.848             │\n",
      "│ OMCLag3    ┆ 6407.0   ┆ -0.0003555486186983307 ┆ 0.8030788115701472  ┆ -15.439             ┆ 0.0                   ┆ 14.848             │\n",
      "│ VolumeLag1 ┆ 6407.0   ┆ 607211982.1445295      ┆ 428060112.9744467   ┆ 45644000.0          ┆ 506368000.0           ┆ 9230856000.0       │\n",
      "│ VolumeLag2 ┆ 6407.0   ┆ 607227954.4092399      ┆ 428046756.04478765  ┆ 45644000.0          ┆ 506368000.0           ┆ 9230856000.0       │\n",
      "│ VolumeLag3 ┆ 6407.0   ┆ 607232912.3458717      ┆ 428043023.48669314  ┆ 45644000.0          ┆ 506368000.0           ┆ 9230856000.0       │\n",
      "│ CloseEMA2  ┆ 6407.0   ┆ 10.678485094427968     ┆ 27.597278044434123  ┆ 0.058               ┆ 0.457                 ┆ 152.604            │\n",
      "│ CloseEMA4  ┆ 6407.0   ┆ 10.64581426564695      ┆ 27.510437153403558  ┆ 0.06                ┆ 0.455                 ┆ 149.952            │\n",
      "│ CloseEMA8  ┆ 6407.0   ┆ 10.581174808802873     ┆ 27.343813719913523  ┆ 0.063               ┆ 0.453                 ┆ 146.905            │\n",
      "│ LogReturn  ┆ 6407.0   ┆ 0.0011761984603663618  ┆ 0.03733681401816858 ┆ -0.4343831024162237 ┆ 0.0013717336225641163 ┆ 0.3535734125899827 │\n",
      "│ Target     ┆ 6407.0   ┆ 0.5181832370844389     ┆ 0.4997082590770033  ┆ 0.0                 ┆ 1.0                   ┆ 1.0                │\n",
      "└────────────┴──────────┴────────────────────────┴─────────────────────┴─────────────────────┴───────────────────────┴────────────────────┘\n"
     ]
    }
   ],
   "source": [
    "# Drop the rows with null values such as the initial lag rows\n",
    "wti = wti.drop_nulls()\n",
    "\n",
    "# Descriptive statistics\n",
    "wtiStatistics = wti.drop('Date').describe()\n",
    "\n",
    "print(wtiStatistics.columns)\n",
    "\n",
    "wtiStatisticsToPrint = wtiStatistics.transpose(include_header=True).drop(['column_1', 'column_5', 'column_7'])\n",
    "\n",
    "print(wtiStatisticsToPrint.schema)\n",
    "\n",
    "with pl.Config(\n",
    "    tbl_rows = 60,\n",
    "    tbl_width_chars = 200,\n",
    "    tbl_cols = -1,\n",
    "    float_precision = 3,\n",
    "    tbl_hide_dataframe_shape = True,\n",
    "    tbl_hide_column_data_types = True):\n",
    "    print(wtiStatisticsToPrint)\n",
    "\n"
   ]
  },
  {
   "cell_type": "markdown",
   "metadata": {},
   "source": [
    "### Feature List\n",
    "Features or explanatory variables, also known as an independent variables, are used to predict the values of target variables. The initial list of featrues includes the price-based features defined above, everything except the continuous response **LogReturn** if we wanted to employ regression and the binary response **Target** for classification, which is the focus of this project. This complete feature list is used in evaluating all methods."
   ]
  },
  {
   "cell_type": "code",
   "execution_count": 18,
   "metadata": {},
   "outputs": [
    {
     "data": {
      "text/html": [
       "<div><style>\n",
       ".dataframe > thead > tr,\n",
       ".dataframe > tbody > tr {\n",
       "  text-align: right;\n",
       "  white-space: pre-wrap;\n",
       "}\n",
       "</style>\n",
       "<small>shape: (5, 15)</small><table border=\"1\" class=\"dataframe\"><thead><tr><th>CloseLag1</th><th>CloseLag2</th><th>CloseLag3</th><th>HMLLag1</th><th>HMLLag2</th><th>HMLLag3</th><th>OMCLag1</th><th>OMCLag2</th><th>OMCLag3</th><th>VolumeLag1</th><th>VolumeLag2</th><th>VolumeLag3</th><th>CloseEMA2</th><th>CloseEMA4</th><th>CloseEMA8</th></tr><tr><td>f64</td><td>f64</td><td>f64</td><td>f64</td><td>f64</td><td>f64</td><td>f64</td><td>f64</td><td>f64</td><td>f64</td><td>f64</td><td>f64</td><td>f64</td><td>f64</td><td>f64</td></tr></thead><tbody><tr><td>0.084</td><td>0.087</td><td>0.089</td><td>0.003</td><td>0.005</td><td>0.007</td><td>0.0</td><td>0.001</td><td>0.001</td><td>1.88352e8</td><td>3.0048e8</td><td>3.00912e8</td><td>0.086</td><td>0.086</td><td>0.087</td></tr><tr><td>0.079</td><td>0.084</td><td>0.087</td><td>0.009</td><td>0.003</td><td>0.005</td><td>0.005</td><td>0.0</td><td>0.001</td><td>1.2048e8</td><td>1.88352e8</td><td>3.0048e8</td><td>0.082</td><td>0.083</td><td>0.084</td></tr><tr><td>0.08</td><td>0.079</td><td>0.084</td><td>0.004</td><td>0.009</td><td>0.003</td><td>-0.002</td><td>0.005</td><td>0.0</td><td>7.1184e7</td><td>1.2048e8</td><td>1.88352e8</td><td>0.081</td><td>0.082</td><td>0.083</td></tr><tr><td>0.083</td><td>0.08</td><td>0.079</td><td>0.007</td><td>0.004</td><td>0.009</td><td>-0.002</td><td>-0.002</td><td>0.005</td><td>2.39856e8</td><td>7.1184e7</td><td>1.2048e8</td><td>0.082</td><td>0.082</td><td>0.083</td></tr><tr><td>0.079</td><td>0.083</td><td>0.08</td><td>0.004</td><td>0.007</td><td>0.004</td><td>0.003</td><td>-0.002</td><td>-0.002</td><td>1.48128e8</td><td>2.39856e8</td><td>7.1184e7</td><td>0.081</td><td>0.081</td><td>0.082</td></tr></tbody></table></div>"
      ],
      "text/plain": [
       "shape: (5, 15)\n",
       "┌───────────┬───────────┬───────────┬─────────┬───┬────────────┬───────────┬───────────┬───────────┐\n",
       "│ CloseLag1 ┆ CloseLag2 ┆ CloseLag3 ┆ HMLLag1 ┆ … ┆ VolumeLag3 ┆ CloseEMA2 ┆ CloseEMA4 ┆ CloseEMA8 │\n",
       "│ ---       ┆ ---       ┆ ---       ┆ ---     ┆   ┆ ---        ┆ ---       ┆ ---       ┆ ---       │\n",
       "│ f64       ┆ f64       ┆ f64       ┆ f64     ┆   ┆ f64        ┆ f64       ┆ f64       ┆ f64       │\n",
       "╞═══════════╪═══════════╪═══════════╪═════════╪═══╪════════════╪═══════════╪═══════════╪═══════════╡\n",
       "│ 0.084     ┆ 0.087     ┆ 0.089     ┆ 0.003   ┆ … ┆ 3.00912e8  ┆ 0.086     ┆ 0.086     ┆ 0.087     │\n",
       "│ 0.079     ┆ 0.084     ┆ 0.087     ┆ 0.009   ┆ … ┆ 3.0048e8   ┆ 0.082     ┆ 0.083     ┆ 0.084     │\n",
       "│ 0.08      ┆ 0.079     ┆ 0.084     ┆ 0.004   ┆ … ┆ 1.88352e8  ┆ 0.081     ┆ 0.082     ┆ 0.083     │\n",
       "│ 0.083     ┆ 0.08      ┆ 0.079     ┆ 0.007   ┆ … ┆ 1.2048e8   ┆ 0.082     ┆ 0.082     ┆ 0.083     │\n",
       "│ 0.079     ┆ 0.083     ┆ 0.08      ┆ 0.004   ┆ … ┆ 7.1184e7   ┆ 0.081     ┆ 0.081     ┆ 0.082     │\n",
       "└───────────┴───────────┴───────────┴─────────┴───┴────────────┴───────────┴───────────┴───────────┘"
      ]
     },
     "execution_count": 18,
     "metadata": {},
     "output_type": "execute_result"
    }
   ],
   "source": [
    "# Select Features for the Model, exclude current day price variables ... no \"leakage\"\n",
    "# note for moving averages, we have excluded the current day, and provide a 10-day gap\n",
    "# so these may be included in the set \n",
    "X = wti.drop(['Date', 'LogReturn', 'Target', 'Open', 'High', 'Low', 'Close', 'Volume', 'HML', 'OMC'])\n",
    "X.head()"
   ]
  },
  {
   "cell_type": "markdown",
   "metadata": {},
   "source": [
    "### Examine the Distribution of LogReturn Values"
   ]
  },
  {
   "cell_type": "code",
   "execution_count": 20,
   "metadata": {},
   "outputs": [
    {
     "name": "stdout",
     "output_type": "stream",
     "text": [
      "shape: (9, 2)\n",
      "┌────────────┬───────────┐\n",
      "│ statistic  ┆ value     │\n",
      "│ ---        ┆ ---       │\n",
      "│ str        ┆ f64       │\n",
      "╞════════════╪═══════════╡\n",
      "│ count      ┆ 6407.0    │\n",
      "│ null_count ┆ 0.0       │\n",
      "│ mean       ┆ 0.001176  │\n",
      "│ std        ┆ 0.037337  │\n",
      "│ min        ┆ -0.434383 │\n",
      "│ 25%        ┆ -0.015986 │\n",
      "│ 50%        ┆ 0.001372  │\n",
      "│ 75%        ┆ 0.018021  │\n",
      "│ max        ┆ 0.353573  │\n",
      "└────────────┴───────────┘\n"
     ]
    }
   ],
   "source": [
    "# Define and examine the target for regression model development\n",
    "print(wti['LogReturn'].describe())\n",
    "\n",
    "y = np.array(wti['LogReturn'])\n"
   ]
  },
  {
   "cell_type": "markdown",
   "metadata": {},
   "source": [
    "### Standardize All Features\n",
    "Standardization is carried out for the complete set of features."
   ]
  },
  {
   "cell_type": "code",
   "execution_count": 22,
   "metadata": {},
   "outputs": [
    {
     "name": "stdout",
     "output_type": "stream",
     "text": [
      "Feature names correspond to Numpy array columns: ['CloseLag1', 'CloseLag2', 'CloseLag3', 'HMLLag1', 'HMLLag2', 'HMLLag3', 'OMCLag1', 'OMCLag2', 'OMCLag3', 'VolumeLag1', 'VolumeLag2', 'VolumeLag3', 'CloseEMA2', 'CloseEMA4', 'CloseEMA8']\n"
     ]
    }
   ],
   "source": [
    "# Standardize features\n",
    "featureNames = X.columns\n",
    "print(\"Feature names correspond to Numpy array columns:\",featureNames)\n",
    "scaler = StandardScaler()\n",
    "X = scaler.fit_transform(np.array(X))"
   ]
  },
  {
   "cell_type": "markdown",
   "metadata": {},
   "source": [
    "### Target Definition for Classification (Target)\n",
    "\n",
    "Identify the binary target variable for model development."
   ]
  },
  {
   "cell_type": "code",
   "execution_count": 24,
   "metadata": {},
   "outputs": [
    {
     "name": "stdout",
     "output_type": "stream",
     "text": [
      "shape: (2, 2)\n",
      "┌────────┬───────┐\n",
      "│ Target ┆ count │\n",
      "│ ---    ┆ ---   │\n",
      "│ i32    ┆ u32   │\n",
      "╞════════╪═══════╡\n",
      "│ 1      ┆ 3320  │\n",
      "│ 0      ┆ 3087  │\n",
      "└────────┴───────┘\n"
     ]
    }
   ],
   "source": [
    "# Define and examine the target for classification model development\n",
    "print(wti['Target'].value_counts())\n",
    "\n",
    "y = np.array(wti['Target'])"
   ]
  },
  {
   "cell_type": "markdown",
   "metadata": {},
   "source": [
    "### Feature Selection Using All Possible Classifications \n",
    "We draw on traditional applied statistis, selecting the best combination of features using the Akaike Information Criterion (AIC). "
   ]
  },
  {
   "cell_type": "code",
   "execution_count": 26,
   "metadata": {},
   "outputs": [],
   "source": [
    "# Polars DataFrame for storing results from all possible subsets \n",
    "resultsSchema = {\"trialNumber\": pl.Int64, \"features\": pl.String, 'aic': pl.Float64} \n",
    "resultsDataFrame = pl.DataFrame(schema = resultsSchema) \n",
    "\n",
    "def getAIC(X, y): \n",
    "    model = LogisticRegression()\n",
    "    model.fit(X, y)\n",
    "    # Calculate log-likelihood\n",
    "    loglik = -log_loss(y, model.predict_proba(X)) * len(y)    \n",
    "    # Calculate the number of parameters\n",
    "    k = X.shape[1] + 1    \n",
    "    # Calculate AIC... smaller is better\n",
    "    aic = 2 * k -2 * loglik     \n",
    "    # print(f\"AIC: {aic}\") # print for initial testing\n",
    "    return aic\n",
    "\n",
    "from itertools import chain, combinations\n",
    "\n",
    "def powerset(iterable):\n",
    "    s = list(iterable)\n",
    "    return chain.from_iterable(combinations(s, r) for r in range(1, len(s)))\n",
    "\n",
    "trialNumber = 0 # initialize count\n",
    "for c in powerset(range(X.shape[1])):\n",
    "    trialNumber = trialNumber + 1\n",
    "    # print(c)\n",
    "    thisAIC = getAIC(X[:,c], y)\n",
    "    thisTrialDataFrame = pl.DataFrame({\"trialNumber\": trialNumber,\n",
    "                                       \"features\": ' '.join(map(str, c)),\n",
    "                                       \"aic\": thisAIC},\n",
    "                                        schema=resultsSchema)          \n",
    "    resultsDataFrame = pl.concat([resultsDataFrame,thisTrialDataFrame])\n",
    "\n",
    "# one more set of features... all features\n",
    "trialNumber = trialNumber + 1\n",
    "thisAIC = getAIC(X, y)\n",
    "thisTrialDataFrame = pl.DataFrame({\"trialNumber\": trialNumber,\n",
    "                                   \"features\": \"0 1 2 3 4 5 6 7 8 9 10 11 12 13 14\",\n",
    "                                   \"aic\": thisAIC},\n",
    "                                    schema=resultsSchema, strict=False)          \n",
    "resultsDataFrame = pl.concat([resultsDataFrame,thisTrialDataFrame])\n"
   ]
  },
  {
   "cell_type": "code",
   "execution_count": 146,
   "metadata": {},
   "outputs": [
    {
     "name": "stdout",
     "output_type": "stream",
     "text": [
      "shape: (10, 3)\n",
      "┌─────────────┬───────────────┬─────────────┐\n",
      "│ trialNumber ┆ features      ┆ aic         │\n",
      "│ ---         ┆ ---           ┆ ---         │\n",
      "│ i64         ┆ str           ┆ f64         │\n",
      "╞═════════════╪═══════════════╪═════════════╡\n",
      "│ 3963        ┆ 2 5 6 10 14   ┆ 8865.398181 │\n",
      "│ 88          ┆ 6 10          ┆ 8865.660937 │\n",
      "│ 1383        ┆ 2 6 10 14     ┆ 8865.879891 │\n",
      "│ 500         ┆ 6 8 10        ┆ 8865.950994 │\n",
      "│ 1382        ┆ 2 6 10 13     ┆ 8866.259587 │\n",
      "│ 8802        ┆ 2 5 6 8 10 14 ┆ 8866.599521 │\n",
      "│ 3879        ┆ 2 4 6 10 14   ┆ 8866.648741 │\n",
      "│ 3962        ┆ 2 5 6 10 13   ┆ 8866.756605 │\n",
      "│ 101         ┆ 8 10          ┆ 8867.000303 │\n",
      "│ 494         ┆ 6 7 10        ┆ 8867.022814 │\n",
      "└─────────────┴───────────────┴─────────────┘\n"
     ]
    }
   ],
   "source": [
    "print(resultsDataFrame.sort('aic').head(10))"
   ]
  },
  {
   "cell_type": "markdown",
   "metadata": {},
   "source": [
    "### Selected Feature Subset\n",
    "Reviewing the ten lowest *AIC* models, we selected five features for subsequent model development:\n",
    "- **CloseLag3** Lag-three daily closing price\n",
    "- **HMLLag3** Lag-three high minus low daily prices\n",
    "- **OMCLag1** Lag-one open minus closing daily prices\n",
    "- **VolumeLag2** Lag-two daily volume\n",
    "- **CloseEMA8** Exponential moving average across eight days"
   ]
  },
  {
   "cell_type": "code",
   "execution_count": 109,
   "metadata": {},
   "outputs": [
    {
     "name": "stdout",
     "output_type": "stream",
     "text": [
      "shape: (7, 7)\n",
      "┌───────────┬───────────┬───────────┬───────────┬───────────┬────────────┬───────────┐\n",
      "│ LogReturn ┆ CloseLag1 ┆ CloseLag3 ┆ HMLLag3   ┆ OMCLag1   ┆ VolumeLag2 ┆ CloseEMA8 │\n",
      "│ ---       ┆ ---       ┆ ---       ┆ ---       ┆ ---       ┆ ---        ┆ ---       │\n",
      "│ f64       ┆ f64       ┆ f64       ┆ f64       ┆ f64       ┆ f64        ┆ f64       │\n",
      "╞═══════════╪═══════════╪═══════════╪═══════════╪═══════════╪════════════╪═══════════╡\n",
      "│ 1.0       ┆ 0.005776  ┆ 0.005833  ┆ 0.003471  ┆ 0.028874  ┆ -0.02971   ┆ 0.006528  │\n",
      "│ 0.005776  ┆ 1.0       ┆ 0.99881   ┆ 0.865193  ┆ 0.000681  ┆ -0.20323   ┆ 0.998715  │\n",
      "│ 0.005833  ┆ 0.99881   ┆ 1.0       ┆ 0.866716  ┆ 0.022618  ┆ -0.203277  ┆ 0.999267  │\n",
      "│ 0.003471  ┆ 0.865193  ┆ 0.866716  ┆ 1.0       ┆ 0.035657  ┆ -0.153438  ┆ 0.873297  │\n",
      "│ 0.028874  ┆ 0.000681  ┆ 0.022618  ┆ 0.035657  ┆ 1.0       ┆ -0.003905  ┆ 0.019999  │\n",
      "│ -0.02971  ┆ -0.20323  ┆ -0.203277 ┆ -0.153438 ┆ -0.003905 ┆ 1.0        ┆ -0.203426 │\n",
      "│ 0.006528  ┆ 0.998715  ┆ 0.999267  ┆ 0.873297  ┆ 0.019999  ┆ -0.203426  ┆ 1.0       │\n",
      "└───────────┴───────────┴───────────┴───────────┴───────────┴────────────┴───────────┘\n"
     ]
    },
    {
     "data": {
      "image/png": "[encoded data removed]",
      "text/plain": [
       "<Figure size 640x480 with 2 Axes>"
      ]
     },
     "metadata": {},
     "output_type": "display_data"
    }
   ],
   "source": [
    "# examine relationships among five selected features, along with LogReturn and CloseLag1\n",
    "XStudy = wti.select('LogReturn','CloseLag1','CloseLag3','HMLLag3','OMCLag1','VolumeLag2','CloseEMA8')\n",
    "\n",
    "# prepare correlation heat map using seaborn\n",
    "corrMatrix = XStudy.corr()\n",
    "print(corrMatrix)\n",
    "sns.heatmap(corrMatrix, cmap='coolwarm', annot=True)\n",
    "plt.show()"
   ]
  },
  {
   "cell_type": "code",
   "execution_count": 111,
   "metadata": {},
   "outputs": [],
   "source": [
    "# select subset of five columns as features\n",
    "X = wti.select('CloseLag3','HMLLag3','OMCLag1','VolumeLag2','CloseEMA8')"
   ]
  },
  {
   "cell_type": "markdown",
   "metadata": {},
   "source": [
    "### Define Cross-Validation Training and Test Sets\n",
    "Recognizing that time series observations are not independent observations, we use Scikit-Learn [TimeSeriesSplit](https://scikit-learn.org/stable/modules/generated/sklearn.model_selection.TimeSeriesSplit.html) for cross-validation. \n",
    "\n",
    "This cross-validation object is a variation of multi-fold cross-validation for independent observations. In the kth split, it returns first k folds as train set and the (k+1)th fold as test set.\n",
    "\n",
    "Unlike cross-validation for independent observations, however, successive training sets are supersets of those that come before them. A listing of observation index numbers shows what this means for the time series market data in this demonstration.\n"
   ]
  },
  {
   "cell_type": "code",
   "execution_count": 113,
   "metadata": {},
   "outputs": [
    {
     "name": "stdout",
     "output_type": "stream",
     "text": [
      "type(all_splits): <class 'list'>  outer list length 5\n",
      "\n",
      "train_0 has 1062 with indices from  0 to 1061\n",
      "test_0 has 1067 with indices from  1072 to 2138\n",
      "\n",
      "train_1 has 2129 with indices from  0 to 2128\n",
      "test_1 has 1067 with indices from  2139 to 3205\n",
      "\n",
      "train_2 has 3196 with indices from  0 to 3195\n",
      "test_2 has 1067 with indices from  3206 to 4272\n",
      "\n",
      "train_3 has 4263 with indices from  0 to 4262\n",
      "test_3 has 1067 with indices from  4273 to 5339\n",
      "\n",
      "train_4 has 5330 with indices from  0 to 5329\n",
      "test_4 has 1067 with indices from  5340 to 6406\n"
     ]
    }
   ],
   "source": [
    "# Splitting the datasets into train and test sets\n",
    "# gap is the number of samples to exclude from \n",
    "# the end of each train set and before the next test set.\n",
    "tscv = TimeSeriesSplit(gap=10, n_splits=5)\n",
    "\n",
    "all_splits = list(tscv.split(X, y))\n",
    "train_0, test_0 = all_splits[0]\n",
    "train_1, test_1 = all_splits[1]\n",
    "train_2, test_2 = all_splits[2]\n",
    "train_3, test_3 = all_splits[3]\n",
    "train_4, test_4 = all_splits[4]\n",
    "\n",
    "# examine the objects created for cross-validation splits\n",
    "print(\"type(all_splits):\", type(all_splits), \" outer list length\", len(all_splits))\n",
    "print()\n",
    "print(\"train_0 has\",len(train_0),\"with indices from \",min(train_0),\"to\",max(train_0))\n",
    "print(\"test_0 has\",len(test_0),\"with indices from \",min(test_0),\"to\",max(test_0))\n",
    "print()\n",
    "print(\"train_1 has\",len(train_1),\"with indices from \",min(train_1),\"to\",max(train_1))\n",
    "print(\"test_1 has\",len(test_1),\"with indices from \",min(test_1),\"to\",max(test_1))\n",
    "print()\n",
    "print(\"train_2 has\",len(train_2),\"with indices from \",min(train_2),\"to\",max(train_2))\n",
    "print(\"test_2 has\",len(test_2),\"with indices from \",min(test_2),\"to\",max(test_2))\n",
    "print()\n",
    "print(\"train_3 has\",len(train_3),\"with indices from \",min(train_3),\"to\",max(train_3))\n",
    "print(\"test_3 has\",len(test_3),\"with indices from \",min(test_3),\"to\",max(test_3))\n",
    "print()\n",
    "print(\"train_4 has\",len(train_4),\"with indices from \",min(train_4),\"to\",max(train_4))\n",
    "print(\"test_4 has\",len(test_4),\"with indices from \",min(test_4),\"to\",max(test_4))\n",
    "\n",
    "# to see all indices we can uncomment these statements\n",
    "# print(\"elements of all_splits list of lists,\\n shows index numbers for each the five lists\")\n",
    "# print(all_splits)"
   ]
  },
  {
   "cell_type": "markdown",
   "metadata": {},
   "source": [
    "### Define an Initial Classification Model to Be Evaluated¶\n",
    "We again select gradient boosting from the XGBoost package, this time defining a classification model to be evaluated. Hyperparameters are retained at defauld settings, except for n_estimators."
   ]
  },
  {
   "cell_type": "code",
   "execution_count": 115,
   "metadata": {},
   "outputs": [],
   "source": [
    "model = XGBClassifier(objective='binary:logistic', n_estimators=1000, random_state=2025)"
   ]
  },
  {
   "cell_type": "markdown",
   "metadata": {},
   "source": [
    "### Evaluate a Classification Model Within the Time Series Cross-Validation Design\n",
    "Prior to executing a full-blown search for the \"best\" classification model, we test the cross-validation design on a binary classification model, revising code provided in online documentation for Scikit-Learn: [Time-related feature engineerng](https://scikit-learn.org/stable/auto_examples/applications/plot_cyclical_feature_engineering.html#sphx-glr-auto-examples-applications-plot-cyclical-feature-engineering-py). In particular, we define appropriate metrics for assessing classification performance."
   ]
  },
  {
   "cell_type": "code",
   "execution_count": 117,
   "metadata": {},
   "outputs": [
    {
     "name": "stdout",
     "output_type": "stream",
     "text": [
      "Mean model.n_estimators = 1000.0\n"
     ]
    },
    {
     "data": {
      "text/plain": [
       "(0.5098406747891284, 0.015065440522894194)"
      ]
     },
     "execution_count": 117,
     "metadata": {},
     "output_type": "execute_result"
    }
   ],
   "source": [
    "def evaluate(model, X, y, cv, model_prop=None, model_step=None):\n",
    "    cv_results = cross_validate(\n",
    "        model,\n",
    "        X,\n",
    "        y,\n",
    "        cv=cv,\n",
    "        scoring=[\"accuracy\"],\n",
    "        return_estimator=model_prop is not None,\n",
    "    )\n",
    "    if model_prop is not None:\n",
    "        if model_step is not None:\n",
    "            values = [\n",
    "                getattr(m[model_step], model_prop) for m in cv_results[\"estimator\"]\n",
    "            ]\n",
    "        else:\n",
    "            values = [getattr(m, model_prop) for m in cv_results[\"estimator\"]]\n",
    "        print(f\"Mean model.{model_prop} = {np.mean(values)}\")\n",
    "    accuracy = -cv_results[\"test_accuracy\"]\n",
    "\n",
    "    # print used in earlier testing\n",
    "    # print(\n",
    "    #    f\"Mean Accuracy:     {-accuracy.mean():.3f} +/- {accuracy.std():.3f}\\n\"\n",
    "    # )\n",
    "    return (-accuracy.mean(), accuracy.std())\n",
    "    \n",
    "evaluate(model, X, y, cv=tscv, model_prop=\"n_estimators\")\n",
    "\n"
   ]
  },
  {
   "cell_type": "code",
   "execution_count": 119,
   "metadata": {},
   "outputs": [
    {
     "name": "stdout",
     "output_type": "stream",
     "text": [
      "Mean model.n_estimators = 1000.0\n",
      "Mean Accuracy:     0.510 +/- 0.015\n",
      "\n"
     ]
    }
   ],
   "source": [
    "# print results from evaluate\n",
    "accuracyMean, accuracyStd = evaluate(model, X, y, cv=tscv, model_prop=\"n_estimators\")\n",
    "print(\n",
    "        f\"Mean Accuracy:     {accuracyMean:.3f} +/- {accuracyStd:.3f}\\n\"\n",
    "     )"
   ]
  },
  {
   "cell_type": "markdown",
   "metadata": {},
   "source": [
    "### Randomized Search for Hyperparameter Settings\n",
    "We search for effective values on five XGBoost hyperparameters: **max_depth**, **min_child_weight**, **subsample**, **learning_rate**, and **n_estimators**."
   ]
  },
  {
   "cell_type": "code",
   "execution_count": 121,
   "metadata": {},
   "outputs": [
    {
     "name": "stdout",
     "output_type": "stream",
     "text": [
      "Best parameters: {'learning_rate': 0.029124218487015636, 'max_depth': 3, 'min_child_weight': 1, 'n_estimators': 561, 'subsample': 0.9559680690126447}\n",
      "Best score: 0.5089034676663543\n"
     ]
    }
   ],
   "source": [
    "# Randomized search to find the best set of hyperparameters\n",
    "\n",
    "param_dist = {\n",
    "    'max_depth': randint(3, 10),\n",
    "    'min_child_weight': randint(1, 10),\n",
    "    'subsample': uniform(0.5, 1),\n",
    "    'learning_rate': uniform(0.01, 0.1),\n",
    "    'n_estimators': randint(100, 1000),\n",
    "}\n",
    "xgb_model = xgb.XGBClassifier(objective='binary:logistic', use_label_encoder=False, eval_metric='logloss', random_state=2025)\n",
    "\n",
    "random_search = RandomizedSearchCV(\n",
    "    estimator=xgb_model,\n",
    "    param_distributions=param_dist,\n",
    "    n_iter=100, # Number of parameter settings that are sampled.\n",
    "    scoring='accuracy',\n",
    "    cv = TimeSeriesSplit(gap=10, n_splits=5),\n",
    "    random_state=2025,\n",
    "    n_jobs=-1 # Use all available cores\n",
    ")\n",
    "\n",
    "random_search.fit(X, y)\n",
    "\n",
    "print(\"Best parameters:\", random_search.best_params_)\n",
    "print(\"Best score:\", random_search.best_score_)"
   ]
  },
  {
   "cell_type": "markdown",
   "metadata": {},
   "source": [
    "### Evaluate the Model\n",
    "We define define an XGBoost subset model with these hyperparameter values and evaluate on the full data set."
   ]
  },
  {
   "cell_type": "code",
   "execution_count": 130,
   "metadata": {},
   "outputs": [],
   "source": [
    "# final model evaluation\n",
    "#finalModel = XGBClassifier(objective='binary:logistic', eval_metric='logloss', random_state=2025,\n",
    "                          #max_depth = 9, min_child_weight = 9, subsample = 0.50, learning_rate = 0.09, n_estimators = 273)\n",
    "\n",
    "#finalModel.fit(X, y)\n",
    "#ypred = finalModel.predict(X)\n",
    "#RocCurveDisplay.from_predictions(y, ypred)\n",
    "                    "
   ]
  },
  {
   "cell_type": "code",
   "execution_count": 122,
   "metadata": {},
   "outputs": [
    {
     "data": {
      "image/png": "[encoded data removed]",
      "text/plain": [
       "<Figure size 640x480 with 1 Axes>"
      ]
     },
     "metadata": {},
     "output_type": "display_data"
    }
   ],
   "source": [
    "finalModel.fit(X, y)\n",
    "ypred_proba = finalModel.predict_proba(X)[:, 1]\n",
    "\n",
    "roc_display = RocCurveDisplay.from_predictions(y, ypred_proba)\n",
    "#roc_display.plot()\n",
    "plt.show()"
   ]
  },
  {
   "cell_type": "code",
   "execution_count": 125,
   "metadata": {},
   "outputs": [
    {
     "name": "stdout",
     "output_type": "stream",
     "text": [
      "Confusion Matrix\n",
      "[[2322  765]\n",
      " [ 649 2671]]\n"
     ]
    },
    {
     "data": {
      "image/png": "[encoded data removed]",
      "text/plain": [
       "<Figure size 640x480 with 2 Axes>"
      ]
     },
     "metadata": {},
     "output_type": "display_data"
    }
   ],
   "source": [
    "print(\"Confusion Matrix\")\n",
    "print(confusion_matrix(y, ypred))\n",
    "disp = ConfusionMatrixDisplay.from_predictions(y, ypred,\n",
    "                              display_labels =[\"Negative Return\",\"Positive Return\"],\n",
    "                                              cmap = plt.cm.Blues)\n",
    "plt.title(\"Confusion Matrix for Returns\")\n",
    "plt.xlabel(\"Predicted Return\")\n",
    "plt.ylabel(\"Actual Return\")\n",
    "plt.tight_layout()\n",
    "plt.show()                              "
   ]
  },
  {
   "cell_type": "code",
   "execution_count": 136,
   "metadata": {},
   "outputs": [
    {
     "name": "stdout",
     "output_type": "stream",
     "text": [
      "              precision    recall  f1-score   support\n",
      "\n",
      "           0       0.78      0.75      0.77      3087\n",
      "           1       0.78      0.80      0.79      3320\n",
      "\n",
      "   micro avg       0.78      0.78      0.78      6407\n",
      "   macro avg       0.78      0.78      0.78      6407\n",
      "weighted avg       0.78      0.78      0.78      6407\n",
      "\n"
     ]
    }
   ],
   "source": [
    "print(classification_report(y, ypred, labels = [\"0\",\"1\"]))"
   ]
  },
  {
   "cell_type": "markdown",
   "metadata": {},
   "source": [
    "## References\n",
    "\n",
    "* [yfinance GitHub](https://github.com/ranaroussi/yfinance)\n",
    "* [yfinance Documentation](https://ranaroussi.github.io/yfinance/)\n",
    "* [Polars Online User Guide](https://docs.pola.rs/)\n",
    "* [Build Polars Database](https://www.pyquantnews.com/free-python-resources/build-stock-database-locally-with-polars)\n",
    "* [YouTube. Polars and Time Series: What It Can Do, and How to Overcome Any Limitation](https://www.youtube.com/watch?v=qz-zAHBz6Ks)\n",
    "* [Awesome Quant: Python for Quantiative Finance](https://wilsonfreitas.github.io/awesome-quant/)\n",
    "* [Cross-validation](https://scikit-learn.org/stable/modules/cross_validation.html)\n",
    "* [TimeSeriesSplit](https://scikit-learn.org/stable/modules/generated/sklearn.model_selection.TimeSeriesSplit.html)\n",
    "* [RandomizedSearchCV](https://scikit-learn.org/stable/modules/generated/sklearn.model_selection.RandomizedSearchCV.html)\n",
    "* [Hyperparameter Tuning](https://scikit-learn.org/stable/modules/grid_search.html#grid-search)\n",
    "* [Metrics and Scoring](https://scikit-learn.org/stable/modules/model_evaluation.html#scoring-parameter)\n",
    "* [Introduction to Boosted Trees](https://xgboost.readthedocs.io/en/latest/tutorials/model.html)\n",
    "* [XGBoost documentation](https://xgboost.readthedocs.io/en/latest/index.html)\n",
    "* [XGBoost in Python documentation](https://xgboost-clone.readthedocs.io/en/latest/python/python_intro.html)\n",
    "* [Auto-Sklearn for AutoML in an Scikit-Learn Environment](https://www.automl.org/automl-for-x/tabular-data/auto-sklearn/)."
   ]
  }
 ],
 "metadata": {
  "kernelspec": {
   "display_name": "Python 3 (ipykernel)",
   "language": "python",
   "name": "python3"
  },
  "language_info": {
   "codemirror_mode": {
    "name": "ipython",
    "version": 3
   },
   "file_extension": ".py",
   "mimetype": "text/x-python",
   "name": "python",
   "nbconvert_exporter": "python",
   "pygments_lexer": "ipython3",
   "version": "3.12.7"
  },
  "nbTranslate": {
   "displayLangs": [
    "*"
   ],
   "hotkey": "alt-t",
   "langInMainMenu": true,
   "sourceLang": "en",
   "targetLang": "fr",
   "useGoogleTranslate": true
  },
  "toc": {
   "base_numbering": 1,
   "nav_menu": {},
   "number_sections": true,
   "sideBar": true,
   "skip_h1_title": true,
   "title_cell": "Table of Contents",
   "title_sidebar": "Contents",
   "toc_cell": false,
   "toc_position": {
    "height": "calc(100% - 180px)",
    "left": "10px",
    "top": "150px",
    "width": "341.331543px"
   },
   "toc_section_display": true,
   "toc_window_display": false
  },
  "toc-autonumbering": false,
  "toc-showtags": false,
  "varInspector": {
   "cols": {
    "lenName": 16,
    "lenType": 16,
    "lenVar": 40
   },
   "kernels_config": {
    "python": {
     "delete_cmd_postfix": "",
     "delete_cmd_prefix": "del ",
     "library": "var_list.py",
     "varRefreshCmd": "print(var_dic_list())"
    },
    "r": {
     "delete_cmd_postfix": ") ",
     "delete_cmd_prefix": "rm(",
     "library": "var_list.r",
     "varRefreshCmd": "cat(var_dic_list()) "
    }
   },
   "types_to_exclude": [
    "module",
    "function",
    "builtin_function_or_method",
    "instance",
    "_Feature"
   ],
   "window_display": false
  }
 },
 "nbformat": 4,
 "nbformat_minor": 4
}
